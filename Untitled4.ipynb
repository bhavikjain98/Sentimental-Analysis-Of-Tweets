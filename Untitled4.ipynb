{
 "cells": [
  {
   "cell_type": "code",
   "execution_count": 1,
   "metadata": {},
   "outputs": [],
   "source": [
    "import pandas as pd\n",
    "import os, csv, re, nltk\n"
   ]
  },
  {
   "cell_type": "code",
   "execution_count": 2,
   "metadata": {},
   "outputs": [],
   "source": [
    "def remove_emoji(string):\n",
    "    emoji_pattern = re.compile(\"[\"\n",
    "                               u\"\\U0001F600-\\U0001F64F\"  # emoticons\n",
    "                               u\"\\U0001F300-\\U0001F5FF\"  # symbols & pictographs\n",
    "                               u\"\\U0001F680-\\U0001F6FF\"  # transport & map symbols\n",
    "                               u\"\\U0001F1E0-\\U0001F1FF\"  # flags (iOS)\n",
    "                               u\"\\U00002702-\\U000027B0\"\n",
    "                               u\"\\U000024C2-\\U0001F251\"\n",
    "                               u\"\\U0001f926-\\U0001f937\"\n",
    "                               u'\\U00010000-\\U0010ffff'\n",
    "                               u\"\\u200d\"\n",
    "                               u\"\\u2640-\\u2642\"\n",
    "                               u\"\\u2600-\\u2B55\"\n",
    "                               u\"\\u23cf\"\n",
    "                               u\"\\u23e9\"\n",
    "                               u\"\\u231a\"\n",
    "                               u\"\\u3030\"\n",
    "                               u\"\\ufe0f\"\n",
    "                               \"]+\", flags=re.UNICODE)\n",
    "    return emoji_pattern.sub(r'', string)"
   ]
  },
  {
   "cell_type": "code",
   "execution_count": 3,
   "metadata": {},
   "outputs": [],
   "source": [
    "train_path = os.path.join('SADATA2 - SADATA.tsv')\n",
    "\n",
    "eng_stopwords = set(nltk.corpus.stopwords.words(\"english\"))\n",
    "\n",
    "tknzr = nltk.TweetTokenizer(strip_handles=True)\n",
    "\n",
    "text, label1, label2, label3 = [], [], [], []\n",
    "with open(os.path.abspath(train_path), 'r', encoding='utf-8',errors='ignore')as f:\n",
    "    line_count = 0\n",
    "    data = csv.reader(f, delimiter='\\t' )\n",
    "    for row in data:\n",
    "        if line_count == 0:\n",
    "            pass\n",
    "        else:\n",
    "            # text_input = remove_emoji(p.tokenize(p.clean(row[1])))\n",
    "            text_input = tknzr.tokenize(row[0].strip())\n",
    "            text_input = remove_emoji(\" \".join([t for t in text_input if not t.startswith('http')]))\n",
    "            text_input = tknzr.tokenize(text_input)\n",
    "            text.append(\" \".join([t for t in text_input if t not in eng_stopwords]))\n",
    "            label1.append(row[1])\n",
    "            label2.append(row[2])\n",
    "            label3.append(row[3])\n",
    "        line_count += 1"
   ]
  },
  {
   "cell_type": "code",
   "execution_count": 4,
   "metadata": {},
   "outputs": [
    {
     "name": "stdout",
     "output_type": "stream",
     "text": [
      "(462, 7046)\n",
      "(1076, 7046)\n"
     ]
    }
   ],
   "source": [
    "from sklearn.model_selection import train_test_split\n",
    "from sklearn.feature_extraction.text import TfidfVectorizer\n",
    "\n",
    "\n",
    "from sklearn.pipeline import Pipeline\n",
    "from sklearn.model_selection import cross_val_score\n",
    "from sklearn.naive_bayes import MultinomialNB\n",
    "from xgboost import XGBClassifier\n",
    "from sklearn.linear_model import SGDClassifier, LogisticRegression\n",
    "from sklearn.svm import SVC, LinearSVC\n",
    "from sklearn.metrics import accuracy_score, classification_report\n",
    "from sklearn.ensemble import RandomForestClassifier, GradientBoostingClassifier\n",
    "\n",
    "# \n",
    "X_train, X_test, y_train, y_test = train_test_split(text, label1, test_size=0.30,stratify=label1)\n",
    "\n",
    "tfidf_transformer = TfidfVectorizer()\n",
    "tfidf_transformer.fit_transform(text)\n",
    "\n",
    "X_train_tfidf = tfidf_transformer.transform(X_train)\n",
    "X_test_tfidf = tfidf_transformer.transform(X_test)\n",
    "\n",
    "print(X_test_tfidf.shape)\n",
    "print(X_train_tfidf.shape)"
   ]
  },
  {
   "cell_type": "code",
   "execution_count": 7,
   "metadata": {},
   "outputs": [],
   "source": [
    "gnb = MultinomialNB()\n",
    "sgd = SGDClassifier(penalty='l2', alpha=1e-3, max_iter=50)\n",
    "lr = LogisticRegression()\n",
    "lin_svc = SVC(kernel='linear',probability=True)\n",
    "model = XGBClassifier()\n",
    "rf=RandomForestClassifier(n_estimators=100)"
   ]
  },
  {
   "cell_type": "code",
   "execution_count": 9,
   "metadata": {},
   "outputs": [
    {
     "name": "stderr",
     "output_type": "stream",
     "text": [
      "C:\\Users\\HP\\Anaconda3\\lib\\site-packages\\sklearn\\linear_model\\logistic.py:432: FutureWarning: Default solver will be changed to 'lbfgs' in 0.22. Specify a solver to silence this warning.\n",
      "  FutureWarning)\n"
     ]
    },
    {
     "data": {
      "text/plain": [
       "0.79004329004329"
      ]
     },
     "execution_count": 9,
     "metadata": {},
     "output_type": "execute_result"
    }
   ],
   "source": [
    "from sklearn.ensemble import VotingClassifier\n",
    "model1 = VotingClassifier(estimators=[('xgb',model),('rf',rf),('gnb', gnb),('svc',lin_svc),('lr', lr)], voting='soft')\n",
    "model1.fit(X_train_tfidf, y_train)\n",
    "model1.score(X_test_tfidf,y_test)"
   ]
  },
  {
   "cell_type": "code",
   "execution_count": 10,
   "metadata": {},
   "outputs": [
    {
     "name": "stdout",
     "output_type": "stream",
     "text": [
      "TASK A\n",
      "\n",
      "\n",
      "model1 accuracy :  0.79004329004329\n",
      "\n",
      "\n",
      "model1 Classification Report :                precision    recall  f1-score   support\n",
      "\n",
      "         HOF       0.79      0.77      0.78       225\n",
      "         NOT       0.79      0.81      0.80       237\n",
      "\n",
      "    accuracy                           0.79       462\n",
      "   macro avg       0.79      0.79      0.79       462\n",
      "weighted avg       0.79      0.79      0.79       462\n",
      "\n"
     ]
    }
   ],
   "source": [
    "y_pred = model1.predict(X_test_tfidf)\n",
    "print(\"TASK A\")\n",
    "print('\\n')\n",
    "print(\"model1 accuracy : \",accuracy_score(y_test, y_pred, normalize = True))\n",
    "print('\\n')\n",
    "print(\"model1 Classification Report : \",classification_report(y_test, y_pred))"
   ]
  },
  {
   "cell_type": "code",
   "execution_count": 11,
   "metadata": {},
   "outputs": [],
   "source": [
    "X_trainB, X_testB, y_trainB, y_testB = train_test_split(text, label2, test_size=0.30,stratify=label2)\n",
    "tfidf_transformerB = TfidfVectorizer()\n",
    "tfidf_transformerB.fit_transform(text)\n",
    "X_train_tfidfB = tfidf_transformerB.transform(X_trainB)\n",
    "X_test_tfidfB = tfidf_transformerB.transform(X_testB)\n",
    "gnbB = MultinomialNB()\n",
    "sgdB = SGDClassifier(loss='hinge', penalty='l2', alpha=1e-3, max_iter=50)\n",
    "lrB = LogisticRegression()\n",
    "lin_svcB = SVC(kernel='linear',probability=True)\n",
    "modelB = XGBClassifier()\n",
    "rfB=RandomForestClassifier(n_estimators=48)"
   ]
  },
  {
   "cell_type": "code",
   "execution_count": 12,
   "metadata": {},
   "outputs": [
    {
     "name": "stderr",
     "output_type": "stream",
     "text": [
      "C:\\Users\\HP\\Anaconda3\\lib\\site-packages\\sklearn\\linear_model\\logistic.py:432: FutureWarning: Default solver will be changed to 'lbfgs' in 0.22. Specify a solver to silence this warning.\n",
      "  FutureWarning)\n",
      "C:\\Users\\HP\\Anaconda3\\lib\\site-packages\\sklearn\\linear_model\\logistic.py:469: FutureWarning: Default multi_class will be changed to 'auto' in 0.22. Specify the multi_class option to silence this warning.\n",
      "  \"this warning.\", FutureWarning)\n"
     ]
    },
    {
     "data": {
      "text/plain": [
       "0.6103896103896104"
      ]
     },
     "execution_count": 12,
     "metadata": {},
     "output_type": "execute_result"
    }
   ],
   "source": [
    "from sklearn.ensemble import VotingClassifier\n",
    "model2 = VotingClassifier(estimators=[('xgb',modelB),('rf',rfB),('gnb', gnbB),('svc',lin_svcB),('lr', lrB)], voting='soft')\n",
    "model2.fit(X_train_tfidfB, y_trainB)\n",
    "model2.score(X_test_tfidfB,y_testB)"
   ]
  },
  {
   "cell_type": "code",
   "execution_count": 13,
   "metadata": {},
   "outputs": [
    {
     "name": "stdout",
     "output_type": "stream",
     "text": [
      "TASK B\n",
      "\n",
      "\n",
      "model2 accuracy :  0.6103896103896104\n",
      "\n",
      "\n",
      "model2 Classification Report :                precision    recall  f1-score   support\n",
      "\n",
      "        HATE       0.53      0.32      0.39       130\n",
      "        NONE       0.65      0.93      0.76       237\n",
      "        OFFN       0.48      0.22      0.30        95\n",
      "\n",
      "    accuracy                           0.61       462\n",
      "   macro avg       0.55      0.49      0.49       462\n",
      "weighted avg       0.58      0.61      0.56       462\n",
      "\n"
     ]
    }
   ],
   "source": [
    "y_predB = model2.predict(X_test_tfidfB)\n",
    "print(\"TASK B\")\n",
    "print('\\n')\n",
    "print(\"model2 accuracy : \",accuracy_score(y_testB, y_predB, normalize = True))\n",
    "print('\\n')\n",
    "print(\"model2 Classification Report : \",classification_report(y_testB, y_predB))"
   ]
  },
  {
   "cell_type": "code",
   "execution_count": 15,
   "metadata": {},
   "outputs": [
    {
     "name": "stdout",
     "output_type": "stream",
     "text": [
      "(462, 7046)\n",
      "(1076, 7046)\n"
     ]
    }
   ],
   "source": [
    "X_trainC, X_testC, y_trainC, y_testC = train_test_split(text, label3, test_size=0.30,stratify=label3)\n",
    "\n",
    "\n",
    "tfidf_transformerC = TfidfVectorizer()\n",
    "tfidf_transformerC.fit_transform(text)\n",
    "\n",
    "X_train_tfidfC = tfidf_transformerC.transform(X_trainC)\n",
    "X_test_tfidfC = tfidf_transformerC.transform(X_testC)\n",
    "\n",
    "print(X_test_tfidfC.shape)\n",
    "print(X_train_tfidfC.shape)\n",
    "\n",
    "gnbC = MultinomialNB()\n",
    "sgdC = SGDClassifier(loss='hinge', penalty='l2', alpha=1e-3, max_iter=50)\n",
    "lrC = LogisticRegression()\n",
    "lin_svcC = SVC(kernel='linear',probability=True)\n",
    "modelC = XGBClassifier()\n",
    "rfC=RandomForestClassifier(n_estimators=48)"
   ]
  },
  {
   "cell_type": "code",
   "execution_count": 16,
   "metadata": {},
   "outputs": [
    {
     "name": "stderr",
     "output_type": "stream",
     "text": [
      "C:\\Users\\HP\\Anaconda3\\lib\\site-packages\\sklearn\\linear_model\\logistic.py:432: FutureWarning: Default solver will be changed to 'lbfgs' in 0.22. Specify a solver to silence this warning.\n",
      "  FutureWarning)\n",
      "C:\\Users\\HP\\Anaconda3\\lib\\site-packages\\sklearn\\linear_model\\logistic.py:469: FutureWarning: Default multi_class will be changed to 'auto' in 0.22. Specify the multi_class option to silence this warning.\n",
      "  \"this warning.\", FutureWarning)\n"
     ]
    },
    {
     "data": {
      "text/plain": [
       "0.7640692640692641"
      ]
     },
     "execution_count": 16,
     "metadata": {},
     "output_type": "execute_result"
    }
   ],
   "source": [
    "from sklearn.ensemble import VotingClassifier\n",
    "model3 = VotingClassifier(estimators=[('xgb',modelC),('rf',rfC),('gnb', gnbC),('svc',lin_svcC),('lr', lrC)], voting='soft')\n",
    "model3.fit(X_train_tfidfC, y_trainC)\n",
    "model3.score(X_test_tfidfC,y_testC)"
   ]
  },
  {
   "cell_type": "code",
   "execution_count": 17,
   "metadata": {},
   "outputs": [
    {
     "name": "stdout",
     "output_type": "stream",
     "text": [
      "TASK C\n",
      "\n",
      "\n",
      "model3 accuracy :  0.7640692640692641\n",
      "\n",
      "\n",
      "model3 Classification Report :                precision    recall  f1-score   support\n",
      "\n",
      "        NONE       0.78      0.87      0.83       237\n",
      "         TIN       0.74      0.75      0.74       195\n",
      "         UNT       0.00      0.00      0.00        30\n",
      "\n",
      "    accuracy                           0.76       462\n",
      "   macro avg       0.51      0.54      0.52       462\n",
      "weighted avg       0.72      0.76      0.74       462\n",
      "\n"
     ]
    }
   ],
   "source": [
    "y_predC = model3.predict(X_test_tfidfC)\n",
    "print(\"TASK C\")\n",
    "print('\\n')\n",
    "print(\"model3 accuracy : \",accuracy_score(y_testC, y_predC, normalize = True))\n",
    "print('\\n')\n",
    "print(\"model3 Classification Report : \",classification_report(y_testC, y_predC))"
   ]
  },
  {
   "cell_type": "code",
   "execution_count": null,
   "metadata": {},
   "outputs": [],
   "source": []
  }
 ],
 "metadata": {
  "kernelspec": {
   "display_name": "Python 3",
   "language": "python",
   "name": "python3"
  },
  "language_info": {
   "codemirror_mode": {
    "name": "ipython",
    "version": 3
   },
   "file_extension": ".py",
   "mimetype": "text/x-python",
   "name": "python",
   "nbconvert_exporter": "python",
   "pygments_lexer": "ipython3",
   "version": "3.7.3"
  }
 },
 "nbformat": 4,
 "nbformat_minor": 2
}
